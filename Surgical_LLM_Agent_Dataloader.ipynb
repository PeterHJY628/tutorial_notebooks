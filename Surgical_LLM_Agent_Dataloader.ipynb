{
  "nbformat": 4,
  "nbformat_minor": 0,
  "metadata": {
    "colab": {
      "provenance": [],
      "authorship_tag": "ABX9TyOWMAGjlZ3lp3WViPbx0/zI",
      "include_colab_link": true
    },
    "kernelspec": {
      "name": "python3",
      "display_name": "Python 3"
    },
    "language_info": {
      "name": "python"
    }
  },
  "cells": [
    {
      "cell_type": "markdown",
      "metadata": {
        "id": "view-in-github",
        "colab_type": "text"
      },
      "source": [
        "<a href=\"https://colab.research.google.com/github/PeterHJY628/tutorial_notebooks/blob/main/Surgical_LLM_Agent_Dataloader.ipynb\" target=\"_parent\"><img src=\"https://colab.research.google.com/assets/colab-badge.svg\" alt=\"Open In Colab\"/></a>"
      ]
    },
    {
      "cell_type": "code",
      "execution_count": null,
      "metadata": {
        "id": "4fARyhWy4ZL-"
      },
      "outputs": [],
      "source": [
        "import os\n",
        "import glob\n",
        "from torch.utils.data import Dataset  # PyTorch Dataset base class\n",
        "from torch.utils.data import DataLoader  # PyTorch DataLoader for efficient batching\n",
        "import re  # For regex operations\n",
        "\n",
        "class TextQuestionLabelDataset(Dataset):\n",
        "    def __init__(self, input_file):\n",
        "        # Load data from a CSV file\n",
        "        import pandas as pd\n",
        "        self.data = pd.read_csv(input_file)\n",
        "\n",
        "        # Extract questions and labels\n",
        "        self.questions = self.data['Input'].apply(lambda x: re.search(r'Question: (.+?)\\n', x).group(1)).tolist()\n",
        "        self.labels = self.data['Label'].tolist()\n",
        "\n",
        "    def __len__(self):\n",
        "        return len(self.questions)\n",
        "\n",
        "    def __getitem__(self, idx):\n",
        "        question = self.questions[idx]\n",
        "        label = self.labels[idx]\n",
        "        return question, label\n",
        "\n",
        "def invokeData():\n",
        "    input_file = \"Question_Generation_Excel.csv\"  # Ensure this file exists\n",
        "\n",
        "    dataset = TextQuestionLabelDataset(input_file)\n",
        "    dataloader = DataLoader(dataset, batch_size=2, shuffle=True)\n",
        "\n",
        "    for batch in dataloader:\n",
        "        print(\"Batch:\", batch)\n",
        "\n",
        "\n",
        "\n"
      ]
    }
  ]
}